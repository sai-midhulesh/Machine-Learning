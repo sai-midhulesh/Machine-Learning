{
 "cells": [
  {
   "cell_type": "code",
   "execution_count": 2,
   "id": "0556ba45",
   "metadata": {},
   "outputs": [],
   "source": [
    "import matplotlib.pyplot as plt\n",
    "%matplotlib inline\n",
    "from sklearn.datasets import load_digits"
   ]
  },
  {
   "cell_type": "code",
   "execution_count": 3,
   "id": "8ea575ef",
   "metadata": {},
   "outputs": [
    {
     "data": {
      "text/plain": [
       "['DESCR', 'data', 'feature_names', 'frame', 'images', 'target', 'target_names']"
      ]
     },
     "execution_count": 3,
     "metadata": {},
     "output_type": "execute_result"
    }
   ],
   "source": [
    "digits = load_digits()\n",
    "dir(digits)"
   ]
  },
  {
   "cell_type": "code",
   "execution_count": 4,
   "id": "d72a363b",
   "metadata": {},
   "outputs": [
    {
     "data": {
      "text/plain": [
       "array([ 0.,  0.,  5., 13.,  9.,  1.,  0.,  0.,  0.,  0., 13., 15., 10.,\n",
       "       15.,  5.,  0.,  0.,  3., 15.,  2.,  0., 11.,  8.,  0.,  0.,  4.,\n",
       "       12.,  0.,  0.,  8.,  8.,  0.,  0.,  5.,  8.,  0.,  0.,  9.,  8.,\n",
       "        0.,  0.,  4., 11.,  0.,  1., 12.,  7.,  0.,  0.,  2., 14.,  5.,\n",
       "       10., 12.,  0.,  0.,  0.,  0.,  6., 13., 10.,  0.,  0.,  0.])"
      ]
     },
     "execution_count": 4,
     "metadata": {},
     "output_type": "execute_result"
    }
   ],
   "source": [
    "digits.data[0]"
   ]
  },
  {
   "cell_type": "code",
   "execution_count": 6,
   "id": "0ed59d13",
   "metadata": {},
   "outputs": [
    {
     "data": {
      "text/plain": [
       "<Figure size 432x288 with 0 Axes>"
      ]
     },
     "metadata": {},
     "output_type": "display_data"
    },
    {
     "data": {
      "image/png": "[encoded data removed]",
      "text/plain": [
       "<Figure size 288x288 with 1 Axes>"
      ]
     },
     "metadata": {
      "needs_background": "light"
     },
     "output_type": "display_data"
    },
    {
     "data": {
      "image/png": "[encoded data removed]",
      "text/plain": [
       "<Figure size 288x288 with 1 Axes>"
      ]
     },
     "metadata": {
      "needs_background": "light"
     },
     "output_type": "display_data"
    },
    {
     "data": {
      "image/png": "[encoded data removed]",
      "text/plain": [
       "<Figure size 288x288 with 1 Axes>"
      ]
     },
     "metadata": {
      "needs_background": "light"
     },
     "output_type": "display_data"
    },
    {
     "data": {
      "image/png": "[encoded data removed]",
      "text/plain": [
       "<Figure size 288x288 with 1 Axes>"
      ]
     },
     "metadata": {
      "needs_background": "light"
     },
     "output_type": "display_data"
    },
    {
     "data": {
      "image/png": "[encoded data removed]",
      "text/plain": [
       "<Figure size 288x288 with 1 Axes>"
      ]
     },
     "metadata": {
      "needs_background": "light"
     },
     "output_type": "display_data"
    }
   ],
   "source": [
    "plt.gray()\n",
    "for i in range(5):\n",
    "    plt.matshow(digits.images[i])"
   ]
  },
  {
   "cell_type": "code",
   "execution_count": 7,
   "id": "fcc8bd97",
   "metadata": {},
   "outputs": [
    {
     "data": {
      "text/plain": [
       "array([0, 1, 2, 3, 4])"
      ]
     },
     "execution_count": 7,
     "metadata": {},
     "output_type": "execute_result"
    }
   ],
   "source": [
    "digits.target[0:5]"
   ]
  },
  {
   "cell_type": "code",
   "execution_count": 9,
   "id": "0a2a74b6",
   "metadata": {},
   "outputs": [],
   "source": [
    "from sklearn.model_selection import train_test_split"
   ]
  },
  {
   "cell_type": "code",
   "execution_count": 25,
   "id": "52dcb9bc",
   "metadata": {},
   "outputs": [],
   "source": [
    "x_train,x_test,y_train,y_test = train_test_split(digits.data,digits.target,test_size=0.5)"
   ]
  },
  {
   "cell_type": "code",
   "execution_count": 13,
   "id": "ca2e2730",
   "metadata": {},
   "outputs": [
    {
     "data": {
      "text/plain": [
       "array([[ 0.,  0.,  1., ...,  8.,  0.,  0.],\n",
       "       [ 0.,  0.,  9., ..., 15.,  4.,  0.],\n",
       "       [ 0.,  0.,  1., ..., 16.,  9.,  0.],\n",
       "       ...,\n",
       "       [ 0.,  0., 13., ..., 15.,  1.,  0.],\n",
       "       [ 0.,  0.,  2., ...,  5.,  0.,  0.],\n",
       "       [ 0.,  0.,  5., ...,  3.,  0.,  0.]])"
      ]
     },
     "execution_count": 13,
     "metadata": {},
     "output_type": "execute_result"
    }
   ],
   "source": [
    "x_train"
   ]
  },
  {
   "cell_type": "code",
   "execution_count": 22,
   "id": "2615738d",
   "metadata": {},
   "outputs": [
    {
     "data": {
      "text/plain": [
       "1078"
      ]
     },
     "execution_count": 22,
     "metadata": {},
     "output_type": "execute_result"
    }
   ],
   "source": [
    "len(x_train)"
   ]
  },
  {
   "cell_type": "code",
   "execution_count": 23,
   "id": "81ad23ac",
   "metadata": {},
   "outputs": [
    {
     "data": {
      "text/plain": [
       "719"
      ]
     },
     "execution_count": 23,
     "metadata": {},
     "output_type": "execute_result"
    }
   ],
   "source": [
    "len(x_test)"
   ]
  },
  {
   "cell_type": "code",
   "execution_count": 17,
   "id": "b272c163",
   "metadata": {},
   "outputs": [],
   "source": [
    "from sklearn.linear_model import LogisticRegression\n",
    "model = LogisticRegression()"
   ]
  },
  {
   "cell_type": "code",
   "execution_count": 26,
   "id": "29bc34bf",
   "metadata": {},
   "outputs": [
    {
     "name": "stderr",
     "output_type": "stream",
     "text": [
      "C:\\Users\\HP\\anaconda3\\lib\\site-packages\\sklearn\\linear_model\\_logistic.py:763: ConvergenceWarning: lbfgs failed to converge (status=1):\n",
      "STOP: TOTAL NO. of ITERATIONS REACHED LIMIT.\n",
      "\n",
      "Increase the number of iterations (max_iter) or scale the data as shown in:\n",
      "    https://scikit-learn.org/stable/modules/preprocessing.html\n",
      "Please also refer to the documentation for alternative solver options:\n",
      "    https://scikit-learn.org/stable/modules/linear_model.html#logistic-regression\n",
      "  n_iter_i = _check_optimize_result(\n"
     ]
    },
    {
     "data": {
      "text/plain": [
       "LogisticRegression()"
      ]
     },
     "execution_count": 26,
     "metadata": {},
     "output_type": "execute_result"
    }
   ],
   "source": [
    "model.fit(x_train,y_train)"
   ]
  },
  {
   "cell_type": "code",
   "execution_count": 27,
   "id": "815293de",
   "metadata": {},
   "outputs": [
    {
     "data": {
      "text/plain": [
       "0.9555061179087876"
      ]
     },
     "execution_count": 27,
     "metadata": {},
     "output_type": "execute_result"
    }
   ],
   "source": [
    "model.score(x_test,y_test)"
   ]
  },
  {
   "cell_type": "code",
   "execution_count": 31,
   "id": "455a6863",
   "metadata": {},
   "outputs": [
    {
     "data": {
      "text/plain": [
       "array([1, 3, 6, 2, 5, 9, 5, 2, 6, 1, 9, 0, 5, 5, 9, 6, 8, 0, 3, 6, 7, 4,\n",
       "       7, 0, 3, 7, 0, 2, 0, 5, 0, 3, 9, 9, 9, 3, 4, 9, 9, 7, 7, 3, 6, 5,\n",
       "       8, 3, 0, 2, 5, 0, 5, 1, 7, 1, 1, 9, 4, 8, 4, 4, 6, 1, 7, 3, 8, 8,\n",
       "       9, 9, 6, 2, 8, 6, 3, 8, 5, 4, 5, 0, 2, 9, 0, 8, 2, 1, 0, 7, 2, 7,\n",
       "       5, 5, 4, 2, 3, 3, 1, 5, 9, 1, 5, 9, 3, 0, 5, 4, 3, 3, 1, 6, 9, 7,\n",
       "       1, 7, 2, 1, 0, 2, 8, 5, 3, 0, 8, 7, 5, 7, 8, 0, 9, 0, 3, 6, 6, 0,\n",
       "       7, 2, 2, 0, 3, 1, 7, 5, 1, 2, 3, 8, 0, 4, 6, 3, 6, 8, 4, 5, 2, 8,\n",
       "       4, 6, 1, 7, 3, 1, 1, 6, 0, 3, 3, 1, 1, 1, 8, 1, 9, 5, 4, 4, 1, 4,\n",
       "       6, 3, 7, 7, 7, 7, 5, 8, 1, 6, 7, 2, 7, 2, 9, 2, 7, 2, 7, 7, 3, 7,\n",
       "       8, 2, 4, 0, 4, 3, 9, 5, 2, 7, 7, 4, 8, 9, 2, 3, 3, 6, 1, 4, 5, 1,\n",
       "       0, 9, 9, 5, 3, 0, 7, 2, 1, 3, 0, 8, 6, 2, 1, 1, 6, 8, 6, 2, 0, 8,\n",
       "       5, 5, 9, 6, 2, 5, 3, 4, 1, 9, 9, 7, 8, 1, 6, 3, 4, 4, 1, 8, 1, 8,\n",
       "       0, 0, 5, 2, 7, 3, 4, 6, 5, 4, 5, 0, 9, 8, 4, 1, 9, 9, 5, 4, 1, 5,\n",
       "       0, 1, 2, 7, 7, 1, 5, 4, 8, 6, 6, 6, 8, 3, 4, 5, 2, 6, 6, 7, 7, 0,\n",
       "       4, 6, 9, 5, 7, 0, 1, 3, 2, 0, 1, 5, 5, 0, 4, 3, 2, 4, 2, 6, 2, 0,\n",
       "       0, 9, 6, 4, 3, 8, 6, 2, 8, 5, 0, 5, 3, 8, 6, 2, 8, 6, 6, 7, 3, 0,\n",
       "       5, 0, 5, 4, 8, 8, 7, 9, 6, 7, 1, 0, 3, 0, 4, 3, 8, 7, 0, 2, 7, 7,\n",
       "       3, 9, 6, 9, 1, 1, 6, 9, 5, 7, 9, 7, 9, 5, 0, 4, 6, 6, 3, 1, 8, 6,\n",
       "       5, 1, 4, 1, 3, 4, 5, 2, 7, 6, 1, 7, 8, 7, 7, 4, 8, 1, 9, 2, 5, 1,\n",
       "       0, 9, 0, 3, 3, 9, 7, 2, 9, 4, 3, 5, 0, 6, 1, 2, 6, 3, 8, 5, 5, 2,\n",
       "       9, 9, 6, 9, 1, 9, 2, 8, 5, 4, 5, 6, 0, 7, 0, 5, 9, 6, 5, 5, 1, 3,\n",
       "       7, 8, 0, 9, 0, 4, 9, 4, 7, 7, 0, 0, 9, 1, 9, 7, 9, 4, 5, 9, 0, 7,\n",
       "       5, 6, 1, 0, 0, 1, 4, 5, 9, 0, 1, 0, 0, 1, 6, 0, 0, 2, 4, 5, 6, 2,\n",
       "       0, 4, 1, 0, 5, 5, 9, 6, 6, 1, 8, 9, 4, 5, 3, 4, 0, 7, 4, 8, 8, 6,\n",
       "       7, 6, 1, 6, 1, 6, 6, 9, 0, 2, 8, 4, 5, 5, 5, 3, 4, 8, 7, 9, 4, 4,\n",
       "       7, 7, 1, 6, 9, 9, 3, 8, 4, 1, 4, 1, 0, 3, 5, 1, 1, 7, 4, 0, 8, 5,\n",
       "       1, 1, 6, 5, 9, 6, 0, 2, 6, 9, 4, 7, 9, 4, 3, 6, 6, 5, 6, 7, 7, 9,\n",
       "       5, 3, 1, 8, 9, 9, 9, 3, 8, 8, 1, 2, 3, 5, 3, 0, 1, 4, 7, 4, 6, 0,\n",
       "       3, 2, 9, 8, 5, 1, 3, 7, 8, 4, 8, 9, 7, 0, 4, 2, 4, 6, 5, 8, 1, 7,\n",
       "       0, 1, 8, 4, 0, 8, 2, 7, 3, 2, 7, 2, 9, 9, 2, 7, 2, 6, 3, 1, 2, 6,\n",
       "       6, 1, 5, 6, 2, 9, 8, 3, 9, 2, 1, 2, 8, 7, 1, 4, 7, 6, 4, 9, 3, 1,\n",
       "       4, 7, 4, 2, 6, 1, 7, 7, 6, 4, 7, 1, 1, 3, 0, 1, 4, 3, 7, 8, 6, 3,\n",
       "       1, 4, 3, 0, 7, 8, 1, 3, 6, 4, 8, 7, 8, 6, 2, 0, 2, 4, 3, 2, 4, 5,\n",
       "       6, 8, 3, 9, 9, 3, 2, 5, 5, 8, 4, 8, 7, 3, 1, 5, 6, 2, 4, 1, 9, 9,\n",
       "       8, 3, 5, 9, 9, 3, 8, 2, 4, 7, 8, 1, 1, 3, 3, 9, 9, 5, 4, 9, 5, 1,\n",
       "       8, 9, 4, 7, 0, 2, 9, 1, 7, 9, 2, 7, 0, 6, 8, 1, 8, 9, 5, 6, 4, 9,\n",
       "       5, 9, 0, 1, 2, 6, 1, 7, 7, 6, 6, 7, 6, 5, 4, 9, 0, 6, 2, 4, 5, 2,\n",
       "       7, 4, 1, 5, 5, 6, 7, 0, 0, 8, 2, 3, 8, 4, 0, 6, 2, 0, 9, 1, 8, 7,\n",
       "       7, 1, 6, 2, 1, 1, 3, 3, 2, 9, 3, 4, 2, 9, 4, 9, 5, 8, 5, 6, 8, 6,\n",
       "       3, 5, 2, 9, 1, 0, 8, 3, 3, 9, 2, 0, 9, 3, 0, 7, 6, 4, 9, 8, 8, 3,\n",
       "       8, 5, 0, 2, 7, 0, 0, 0, 3, 1, 8, 2, 3, 7, 1, 4, 5, 5, 6])"
      ]
     },
     "execution_count": 31,
     "metadata": {},
     "output_type": "execute_result"
    }
   ],
   "source": [
    "model.predict(x_test)"
   ]
  },
  {
   "cell_type": "code",
   "execution_count": 30,
   "id": "d4d1f98a",
   "metadata": {},
   "outputs": [
    {
     "data": {
      "text/plain": [
       "array([6])"
      ]
     },
     "execution_count": 30,
     "metadata": {},
     "output_type": "execute_result"
    }
   ],
   "source": [
    "model.predict([digits.data[67]])"
   ]
  },
  {
   "cell_type": "code",
   "execution_count": 33,
   "id": "73a7b10e",
   "metadata": {},
   "outputs": [
    {
     "data": {
      "text/plain": [
       "array([[88,  0,  0,  0,  0,  0,  0,  0,  0,  0],\n",
       "       [ 0, 88,  0,  0,  0,  0,  0,  0,  1,  0],\n",
       "       [ 0,  0, 77,  0,  0,  0,  0,  0,  0,  0],\n",
       "       [ 0,  0,  1, 87,  0,  0,  0,  0,  9,  0],\n",
       "       [ 0,  4,  0,  0, 86,  0,  0,  1,  0,  1],\n",
       "       [ 0,  0,  0,  0,  1, 88,  1,  0,  0,  4],\n",
       "       [ 0,  3,  0,  0,  0,  1, 92,  0,  0,  0],\n",
       "       [ 0,  0,  0,  0,  0,  0,  0, 93,  0,  1],\n",
       "       [ 0,  5,  1,  0,  0,  3,  0,  1, 71,  1],\n",
       "       [ 1,  0,  0,  0,  0,  0,  0,  0,  0, 89]], dtype=int64)"
      ]
     },
     "execution_count": 33,
     "metadata": {},
     "output_type": "execute_result"
    }
   ],
   "source": [
    "y_predicted = model.predict(x_test)\n",
    "from sklearn.metrics import confusion_matrix\n",
    "cn = confusion_matrix(y_test,y_predicted)\n",
    "cn"
   ]
  },
  {
   "cell_type": "code",
   "execution_count": 35,
   "id": "46a0f152",
   "metadata": {},
   "outputs": [
    {
     "data": {
      "text/plain": [
       "<AxesSubplot:>"
      ]
     },
     "execution_count": 35,
     "metadata": {},
     "output_type": "execute_result"
    },
    {
     "data": {
      "image/png": "[encoded data removed]",
      "text/plain": [
       "<Figure size 432x288 with 2 Axes>"
      ]
     },
     "metadata": {
      "needs_background": "light"
     },
     "output_type": "display_data"
    }
   ],
   "source": [
    "import seaborn as sn\n",
    "#plt.fig\n",
    "sn.heatmap(cn,annot=True)"
   ]
  },
  {
   "cell_type": "code",
   "execution_count": null,
   "id": "00ddf087",
   "metadata": {},
   "outputs": [],
   "source": []
  }
 ],
 "metadata": {
  "kernelspec": {
   "display_name": "Python 3",
   "language": "python",
   "name": "python3"
  },
  "language_info": {
   "codemirror_mode": {
    "name": "ipython",
    "version": 3
   },
   "file_extension": ".py",
   "mimetype": "text/x-python",
   "name": "python",
   "nbconvert_exporter": "python",
   "pygments_lexer": "ipython3",
   "version": "3.8.8"
  }
 },
 "nbformat": 4,
 "nbformat_minor": 5
}
